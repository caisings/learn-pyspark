{
 "cells": [
  {
   "cell_type": "code",
   "execution_count": 1,
   "metadata": {},
   "outputs": [],
   "source": [
    "import findspark\n",
    "findspark.init()\n",
    "\n",
    "from pyspark.sql import SparkSession"
   ]
  },
  {
   "cell_type": "code",
   "execution_count": 2,
   "metadata": {},
   "outputs": [],
   "source": [
    "spark = SparkSession.builder\\\n",
    "    .master(\"local[*]\")\\\n",
    "    .appName(\"Superstore Analysis\")\\\n",
    "    .getOrCreate()"
   ]
  },
  {
   "cell_type": "code",
   "execution_count": 3,
   "metadata": {},
   "outputs": [],
   "source": [
    "from pyspark.sql.types import *"
   ]
  },
  {
   "cell_type": "code",
   "execution_count": 4,
   "metadata": {},
   "outputs": [],
   "source": [
    "\"\"\"\n",
    "__all__ = [\n",
    "    \"DataType\", \"NullType\", \"StringType\", \"BinaryType\", \"BooleanType\", \"DateType\",\n",
    "    \"TimestampType\", \"DecimalType\", \"DoubleType\", \"FloatType\", \"ByteType\", \"IntegerType\",\n",
    "    \"LongType\", \"ShortType\", \"ArrayType\", \"MapType\", \"StructField\", \"StructType\"]\n",
    "\"\"\"\n",
    "#create df with structure\n",
    "schema = StructType([\n",
    "\tStructField(\"row_id\", StringType(), True),\n",
    "\tStructField(\"order_id\", StringType(), True),\n",
    "\tStructField(\"order_date\", StringType(), True),\n",
    "\tStructField(\"ship_date\", StringType(), True),\n",
    "\tStructField(\"ship_mode\", StringType(), True),\n",
    "\tStructField(\"customer_id\", StringType(), True),\n",
    "\tStructField(\"customer_name\", StringType(), True),\n",
    "\tStructField(\"segment\", StringType(), True),\n",
    "\tStructField(\"country\", StringType(), True),\n",
    "\tStructField(\"city\", StringType(), True),\n",
    "\tStructField(\"state\", StringType(), True),\n",
    "\tStructField(\"postal_code\", StringType(), True),\n",
    "\tStructField(\"region\", StringType(), True),\n",
    "\tStructField(\"product_id\", StringType(), True),\n",
    "\tStructField(\"category\", StringType(), True),\n",
    "\tStructField(\"sub_category\", StringType(), True),\n",
    "\tStructField(\"product_name\", StringType(), True),\n",
    "\tStructField(\"sales\", DoubleType(), True),\n",
    "\tStructField(\"quantity\", IntegerType(), True),\n",
    "\tStructField(\"discount\", DoubleType(), True),\n",
    "\tStructField(\"profit\", DoubleType(), True)\n",
    "])\n",
    "\n",
    "#create df with structure\n",
    "superstore_df = spark.read.csv(\"D:/Work/training/sample_training/Superstores.csv\", sep=\"|\", schema=schema, header=None)"
   ]
  },
  {
   "cell_type": "code",
   "execution_count": 5,
   "metadata": {},
   "outputs": [],
   "source": [
    "#https://spark.apache.org/docs/latest/api/python/pyspark.sql.html?highlight=read%20csv\n",
    "\n",
    "#create df with inferschema\n",
    "superstore_df = spark.read.csv(\"D:/Work/training/sample_training/Superstores.csv\", sep=\"|\", inferSchema=True, header=True)"
   ]
  },
  {
   "cell_type": "code",
   "execution_count": 6,
   "metadata": {},
   "outputs": [
    {
     "data": {
      "text/plain": [
       "[('Row ID', 'int'),\n",
       " ('Order ID', 'string'),\n",
       " ('Order Date', 'string'),\n",
       " ('Ship Date', 'string'),\n",
       " ('Ship Mode', 'string'),\n",
       " ('Customer ID', 'string'),\n",
       " ('Customer Name', 'string'),\n",
       " ('Segment', 'string'),\n",
       " ('Country', 'string'),\n",
       " ('City', 'string'),\n",
       " ('State', 'string'),\n",
       " ('Postal Code', 'int'),\n",
       " ('Region', 'string'),\n",
       " ('Product ID', 'string'),\n",
       " ('Category', 'string'),\n",
       " ('Sub-Category', 'string'),\n",
       " ('Product Name', 'string'),\n",
       " ('Sales', 'double'),\n",
       " ('Quantity', 'int'),\n",
       " ('Discount', 'double'),\n",
       " ('Profit', 'double')]"
      ]
     },
     "execution_count": 6,
     "metadata": {},
     "output_type": "execute_result"
    }
   ],
   "source": [
    "superstore_df.dtypes"
   ]
  },
  {
   "cell_type": "code",
   "execution_count": 7,
   "metadata": {},
   "outputs": [
    {
     "name": "stdout",
     "output_type": "stream",
     "text": [
      "+----------+\n",
      "|Order Date|\n",
      "+----------+\n",
      "| 11/8/2016|\n",
      "| 11/8/2016|\n",
      "| 6/12/2016|\n",
      "+----------+\n",
      "only showing top 3 rows\n",
      "\n"
     ]
    }
   ],
   "source": [
    "#Select dataframe column\n",
    "superstore_df.select(\"Order Date\").show(3)"
   ]
  },
  {
   "cell_type": "code",
   "execution_count": 8,
   "metadata": {},
   "outputs": [],
   "source": [
    "import datetime\n",
    "\n",
    "#python cast to date\n",
    "def castToDate(dates):\n",
    "    new_dates = datetime.datetime.strptime(dates, '%d/%m/%Y').date()\n",
    "    return new_dates\n",
    "\n",
    "#to convert string use .strftime('%Y-%m-%d')"
   ]
  },
  {
   "cell_type": "code",
   "execution_count": 9,
   "metadata": {},
   "outputs": [],
   "source": [
    "from pyspark.sql.functions import lit, to_date, year, month, dayofmonth\n",
    "\n",
    "#Convert string to date with specific date format\n",
    "temp_df = superstore_df\\\n",
    "    .withColumn('Order Date', lit(to_date(superstore_df['Order Date'], 'mm/dd/yyyy')))\\\n",
    "    .withColumn('Ship Date', lit(to_date(superstore_df['Ship Date'], 'mm/dd/yyyy')))"
   ]
  },
  {
   "cell_type": "code",
   "execution_count": 10,
   "metadata": {},
   "outputs": [
    {
     "data": {
      "text/plain": [
       "[Row(Order Date=datetime.date(2016, 1, 8)),\n",
       " Row(Order Date=datetime.date(2016, 1, 8)),\n",
       " Row(Order Date=datetime.date(2016, 1, 12))]"
      ]
     },
     "execution_count": 10,
     "metadata": {},
     "output_type": "execute_result"
    }
   ],
   "source": [
    "temp_df.select(\"Order Date\").head(3)"
   ]
  },
  {
   "cell_type": "code",
   "execution_count": 11,
   "metadata": {},
   "outputs": [],
   "source": [
    "import pyspark.sql.functions as F\n",
    "\n",
    "#function to Concat column in dataframe\n",
    "def myConcat(*cols):\n",
    "    return F.concat(*[F.coalesce(c, F.lit(\"*\")) for c in cols])\n",
    "\n",
    "#Or you can use:\n",
    "#new_df = temp_df.withColumn('Period', myConcat.concat(year(\"Order Date\"), month(\"Order Date\"))).show()\n",
    "#new_df = temp_df.withColumn('Period', F.concat(year(\"Order Date\"), month(\"Order Date\"))).show()"
   ]
  },
  {
   "cell_type": "code",
   "execution_count": 12,
   "metadata": {},
   "outputs": [],
   "source": [
    "\"\"\"\n",
    "dd = (dd.withColumn('month', F.when(F.length(F.col('month')) == 1, F.concat(F.lit('0'), F.col('month'))).otherwise(F.col('month')))\n",
    "        .withColumn('date', F.when(F.length(F.col('date')) == 1, F.concat(F.lit('0'), F.col('date'))).otherwise(F.col('date')))\n",
    "        .withColumn('hhmm', F.when(F.length(F.col('hhmm')) == 1, F.concat(F.lit('000'), F.col('hhmm')))\n",
    "                             .when(F.length(F.col('hhmm')) == 2, F.concat(F.lit('00'), F.col('hhmm')))\n",
    "                             .when(F.length(F.col('hhmm')) == 3, F.concat(F.lit('0'), F.col('hhmm')))\n",
    "                             .otherwise(F.col('hhmm')))\n",
    "        .withColumn('time', F.to_timestamp(F.concat(*dd.columns), format='yyyyMMddHHmm'))\n",
    "     )\n",
    "\"\"\"\n",
    "#F.when(F.length(F.col(temp_df.select(month('Order Date')))) == 1, F.concat(F.lit('0'), F.col(temp_df.select(month('Order Date'))))).otherwise(F.col(temp_df.select(month(\"Order Date\"))))\n",
    "\n",
    "superstore_df = temp_df.withColumn('Period', F.concat(year(\"Order Date\"), month(\"Order Date\")))"
   ]
  },
  {
   "cell_type": "code",
   "execution_count": 13,
   "metadata": {},
   "outputs": [
    {
     "name": "stdout",
     "output_type": "stream",
     "text": [
      "+------+--------------+----------+----------+------------+-----------+-------------+--------+-------------+---------+--------+-----------+------+---------------+---------+------------+--------------------+------+--------+--------+-------+------+\n",
      "|Row ID|      Order ID|Order Date| Ship Date|   Ship Mode|Customer ID|Customer Name| Segment|      Country|     City|   State|Postal Code|Region|     Product ID| Category|Sub-Category|        Product Name| Sales|Quantity|Discount| Profit|Period|\n",
      "+------+--------------+----------+----------+------------+-----------+-------------+--------+-------------+---------+--------+-----------+------+---------------+---------+------------+--------------------+------+--------+--------+-------+------+\n",
      "|     1|CA-2016-152156|2016-01-08|2016-01-11|Second Class|   CG-12520|  Claire Gute|Consumer|United States|Henderson|Kentucky|      42420| South|FUR-BO-10001798|Furniture|   Bookcases|Bush Somerset Col...|261.96|       2|     0.0|41.9136| 20161|\n",
      "+------+--------------+----------+----------+------------+-----------+-------------+--------+-------------+---------+--------+-----------+------+---------------+---------+------------+--------------------+------+--------+--------+-------+------+\n",
      "only showing top 1 row\n",
      "\n"
     ]
    }
   ],
   "source": [
    "superstore_df.show(1)"
   ]
  },
  {
   "cell_type": "code",
   "execution_count": 14,
   "metadata": {},
   "outputs": [],
   "source": [
    "from pyspark.sql.functions import col, desc\n",
    "\n",
    "sales_by_period_df = superstore_df \\\n",
    "    .groupBy(\"Period\") \\\n",
    "    .agg({\"Sales\":\"sum\"}) \\\n",
    "    .withColumnRenamed(\"SUM(sales)\", \"total_sales\") \\\n",
    "    .sort(desc(\"total_sales\"))"
   ]
  },
  {
   "cell_type": "code",
   "execution_count": 15,
   "metadata": {},
   "outputs": [
    {
     "name": "stdout",
     "output_type": "stream",
     "text": [
      "+------+------------------+\n",
      "|Period|       total_sales|\n",
      "+------+------------------+\n",
      "| 20171| 733215.2551999999|\n",
      "| 20161| 609205.5980000008|\n",
      "| 20141| 484247.4981000009|\n",
      "| 20151|470532.50899999985|\n",
      "+------+------------------+\n",
      "\n"
     ]
    }
   ],
   "source": [
    "sales_by_period_df.show()"
   ]
  },
  {
   "cell_type": "code",
   "execution_count": 17,
   "metadata": {},
   "outputs": [],
   "source": [
    "sales_by_country_df = superstore_df \\\n",
    "    .groupBy([\"Country\", \"City\"]) \\\n",
    "    .agg({\"Sales\":\"sum\"}) \\\n",
    "    .withColumnRenamed(\"SUM(sales)\", \"total_sales\") \\\n",
    "    .sort(desc(\"total_sales\"))"
   ]
  },
  {
   "cell_type": "code",
   "execution_count": 18,
   "metadata": {},
   "outputs": [
    {
     "name": "stdout",
     "output_type": "stream",
     "text": [
      "+-------------+-------------+------------------+\n",
      "|      Country|         City|       total_sales|\n",
      "+-------------+-------------+------------------+\n",
      "|United States|New York City|        256368.161|\n",
      "|United States|  Los Angeles|        175851.341|\n",
      "|United States|      Seattle|        119540.742|\n",
      "|United States|San Francisco|112669.09199999992|\n",
      "|United States| Philadelphia|109077.01300000008|\n",
      "+-------------+-------------+------------------+\n",
      "only showing top 5 rows\n",
      "\n"
     ]
    }
   ],
   "source": [
    "sales_by_country_df.show(5)"
   ]
  },
  {
   "cell_type": "code",
   "execution_count": 71,
   "metadata": {},
   "outputs": [],
   "source": [
    "from pyspark.sql.functions import countDistinct\n",
    "\n",
    "total_segment_df = superstore_df \\\n",
    "    .groupBy(\"Segment\").agg(countDistinct(\"Order ID\").alias(\"total_order\"))"
   ]
  },
  {
   "cell_type": "code",
   "execution_count": 72,
   "metadata": {},
   "outputs": [
    {
     "name": "stdout",
     "output_type": "stream",
     "text": [
      "+-----------+-----------+\n",
      "|    Segment|total_order|\n",
      "+-----------+-----------+\n",
      "|   Consumer|       2586|\n",
      "|Home Office|        909|\n",
      "|  Corporate|       1514|\n",
      "+-----------+-----------+\n",
      "\n"
     ]
    }
   ],
   "source": [
    "total_segment_df.show()"
   ]
  },
  {
   "cell_type": "code",
   "execution_count": 20,
   "metadata": {},
   "outputs": [],
   "source": [
    "profit_by_product_df = superstore_df \\\n",
    "    .groupBy(\"Product Name\") \\\n",
    "    .agg({\"Profit\":\"sum\"}) \\\n",
    "    .withColumnRenamed(\"SUM(Profit)\", \"total_profit\") \\\n",
    "    .sort(desc(\"total_Profit\"))"
   ]
  },
  {
   "cell_type": "code",
   "execution_count": 21,
   "metadata": {},
   "outputs": [
    {
     "name": "stdout",
     "output_type": "stream",
     "text": [
      "+---------------------------------------------------------------------------+------------------+\n",
      "|Product Name                                                               |total_profit      |\n",
      "+---------------------------------------------------------------------------+------------------+\n",
      "|Canon imageCLASS 2200 Advanced Copier                                      |25199.928000000004|\n",
      "|Fellowes PB500 Electric Punch Plastic Comb Binding Machine with Manual Bind|7753.039          |\n",
      "|Hewlett Packard LaserJet 3310 Copier                                       |6983.8836         |\n",
      "|Canon PC1060 Personal Laser Copier                                         |4570.9347         |\n",
      "|\"HP Designjet T520 Inkjet Large Format Printer - 24\"\" Color\"               |4094.9766         |\n",
      "+---------------------------------------------------------------------------+------------------+\n",
      "only showing top 5 rows\n",
      "\n"
     ]
    }
   ],
   "source": [
    "profit_by_product_df.show(5, truncate=False)"
   ]
  },
  {
   "cell_type": "code",
   "execution_count": 22,
   "metadata": {},
   "outputs": [],
   "source": [
    "retur_df = spark.read.csv(\"D:/Work/training/sample_training/return.csv\", sep=\"|\", inferSchema=True, header=True)"
   ]
  },
  {
   "cell_type": "code",
   "execution_count": 29,
   "metadata": {},
   "outputs": [
    {
     "data": {
      "text/plain": [
       "296"
      ]
     },
     "execution_count": 29,
     "metadata": {},
     "output_type": "execute_result"
    }
   ],
   "source": [
    "retur_df.count()"
   ]
  },
  {
   "cell_type": "code",
   "execution_count": 43,
   "metadata": {},
   "outputs": [],
   "source": [
    "from pyspark.sql.functions import broadcast\n",
    "\n",
    "total_retur_period_df = retur_df \\\n",
    "    .alias('a')\\\n",
    "    .join(broadcast(superstore_df.alias('b')), col(\"a.Order ID\") == col(\"b.Order ID\"), how=\"left\")\\\n",
    "    .select(\"a.Order ID\", \"b.Sales\", \"b.Quantity\", \"b.period\")\\\n",
    "    .groupBy(\"Period\") \\\n",
    "    .agg({\"Sales\":\"sum\", \"Quantity\":\"sum\"})\\\n",
    "    .withColumnRenamed(\"SUM(Sales)\",\"total_retur_sales\")\\\n",
    "    .withColumnRenamed(\"SUM(Quantity)\",\"total_retur_quantity\")\\\n",
    "    .sort(desc(\"Period\"))"
   ]
  },
  {
   "cell_type": "code",
   "execution_count": 44,
   "metadata": {},
   "outputs": [
    {
     "name": "stdout",
     "output_type": "stream",
     "text": [
      "+------+------------------+--------------------+\n",
      "|Period| total_retur_sales|total_retur_quantity|\n",
      "+------+------------------+--------------------+\n",
      "| 20171| 75502.06389999992|                1140|\n",
      "| 20161|36121.772000000004|                 790|\n",
      "| 20151| 39660.89399999997|                 598|\n",
      "| 20141|29219.547999999984|                 525|\n",
      "+------+------------------+--------------------+\n",
      "\n"
     ]
    }
   ],
   "source": [
    "total_retur_period_df.show()"
   ]
  },
  {
   "cell_type": "code",
   "execution_count": 73,
   "metadata": {},
   "outputs": [],
   "source": [
    "import pandas as pd\n",
    "import matplotlib.pyplot as plt\n",
    "\n",
    "sales_by_period = sales_by_period_df.toPandas()\n",
    "sales_by_country = sales_by_country_df.toPandas()\n",
    "profit_by_product = profit_by_product_df.toPandas()\n",
    "total_segment = total_segment_df.toPandas()\n",
    "total_retur_period = total_retur_period_df.toPandas()"
   ]
  },
  {
   "cell_type": "code",
   "execution_count": 64,
   "metadata": {},
   "outputs": [
    {
     "data": {
      "image/png": "[encoded data removed]",
      "text/plain": [
       "<Figure size 432x288 with 1 Axes>"
      ]
     },
     "metadata": {
      "needs_background": "light"
     },
     "output_type": "display_data"
    }
   ],
   "source": [
    "plt.bar(sales_by_period['Period'], sales_by_period['total_sales'])\n",
    "plt.title(\"Total Sales By Period\")\n",
    "plt.ylabel('total_sales')\n",
    "plt.xlabel('Period')\n",
    "plt.show()"
   ]
  },
  {
   "cell_type": "code",
   "execution_count": 86,
   "metadata": {},
   "outputs": [
    {
     "data": {
      "image/png": "[encoded data removed]",
      "text/plain": [
       "<Figure size 432x288 with 1 Axes>"
      ]
     },
     "metadata": {
      "needs_background": "light"
     },
     "output_type": "display_data"
    }
   ],
   "source": [
    "plt.barh(profit_by_product['Product Name'][:10], profit_by_product['total_profit'][:10])\n",
    "plt.title(\"Total Profit By Product\")\n",
    "plt.ylabel('Product Name')\n",
    "plt.xlabel('total_profit')\n",
    "plt.show()"
   ]
  },
  {
   "cell_type": "code",
   "execution_count": 87,
   "metadata": {},
   "outputs": [
    {
     "data": {
      "text/plain": [
       "array([['Consumer', 2586],\n",
       "       ['Home Office', 909],\n",
       "       ['Corporate', 1514]], dtype=object)"
      ]
     },
     "execution_count": 87,
     "metadata": {},
     "output_type": "execute_result"
    }
   ],
   "source": [
    "total_segment.values"
   ]
  },
  {
   "cell_type": "code",
   "execution_count": 89,
   "metadata": {},
   "outputs": [
    {
     "data": {
      "image/png": "[encoded data removed]",
      "text/plain": [
       "<Figure size 432x288 with 1 Axes>"
      ]
     },
     "metadata": {},
     "output_type": "display_data"
    }
   ],
   "source": [
    "plt.pie(total_segment['total_order'], autopct= '%1.0f%%', labels=total_segment['Segment'], startangle=60)\n",
    "plt.axis('equal')\n",
    "plt.title(\"Superstore Buyer Segmentation\")\n",
    "plt.show()"
   ]
  },
  {
   "cell_type": "code",
   "execution_count": 91,
   "metadata": {},
   "outputs": [
    {
     "data": {
      "image/png": "[encoded data removed]",
      "text/plain": [
       "<Figure size 432x288 with 1 Axes>"
      ]
     },
     "metadata": {
      "needs_background": "light"
     },
     "output_type": "display_data"
    }
   ],
   "source": [
    "plt.bar(total_retur_period['Period'], total_retur_period['total_retur_quantity'])\n",
    "plt.title(\"Total Retur By Period\")\n",
    "plt.xlabel('Period')\n",
    "plt.ylabel('total retur')\n",
    "plt.show()"
   ]
  },
  {
   "cell_type": "code",
   "execution_count": null,
   "metadata": {},
   "outputs": [],
   "source": []
  },
  {
   "cell_type": "code",
   "execution_count": null,
   "metadata": {},
   "outputs": [],
   "source": []
  },
  {
   "cell_type": "code",
   "execution_count": null,
   "metadata": {},
   "outputs": [],
   "source": []
  }
 ],
 "metadata": {
  "kernelspec": {
   "display_name": "Python 3",
   "language": "python",
   "name": "python3"
  },
  "language_info": {
   "codemirror_mode": {
    "name": "ipython",
    "version": 3
   },
   "file_extension": ".py",
   "mimetype": "text/x-python",
   "name": "python",
   "nbconvert_exporter": "python",
   "pygments_lexer": "ipython3",
   "version": "3.7.4"
  }
 },
 "nbformat": 4,
 "nbformat_minor": 2
}
